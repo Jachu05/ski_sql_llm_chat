{
 "cells": [
  {
   "cell_type": "code",
   "execution_count": 1,
   "metadata": {},
   "outputs": [
    {
     "name": "stderr",
     "output_type": "stream",
     "text": [
      "c:\\repos\\ski_sql_llm_chat\\.venv\\lib\\site-packages\\tqdm\\auto.py:21: TqdmWarning: IProgress not found. Please update jupyter and ipywidgets. See https://ipywidgets.readthedocs.io/en/stable/user_install.html\n",
      "  from .autonotebook import tqdm as notebook_tqdm\n"
     ]
    },
    {
     "data": {
      "text/plain": [
       "True"
      ]
     },
     "execution_count": 1,
     "metadata": {},
     "output_type": "execute_result"
    }
   ],
   "source": [
    "from langchain_google_genai import ChatGoogleGenerativeAI\n",
    "from dotenv import load_dotenv\n",
    "from langgraph.checkpoint.memory import MemorySaver\n",
    "from langgraph.graph import START, MessagesState, StateGraph\n",
    "from langchain_core.messages import HumanMessage, AIMessage\n",
    "from langchain_core.runnables.config import RunnableConfig\n",
    "from langchain_core.prompts import ChatPromptTemplate, MessagesPlaceholder\n",
    "from IPython.display import Image, display\n",
    "\n",
    "import llm_utils\n",
    "\n",
    "load_dotenv()"
   ]
  },
  {
   "cell_type": "code",
   "execution_count": 2,
   "metadata": {},
   "outputs": [],
   "source": [
    "app = llm_utils.get_app()"
   ]
  },
  {
   "cell_type": "code",
   "execution_count": 3,
   "metadata": {},
   "outputs": [
    {
     "data": {
      "image/png": "[encoded data removed]",
      "text/plain": [
       "<IPython.core.display.Image object>"
      ]
     },
     "metadata": {},
     "output_type": "display_data"
    }
   ],
   "source": [
    "display(Image(app.get_graph().draw_mermaid_png()))"
   ]
  },
  {
   "cell_type": "markdown",
   "metadata": {},
   "source": [
    "# invoke "
   ]
  },
  {
   "cell_type": "code",
   "execution_count": null,
   "metadata": {},
   "outputs": [
    {
     "name": "stdout",
     "output_type": "stream",
     "text": [
      "[AIMessage(content='By the Emperor!  Another soul lost in the immensity of the Imperium.  Greetings, Bob.  State your business swiftly and concisely.  Time is a precious commodity, even more so in these dark times.  What is your requisition?\\n', additional_kwargs={}, response_metadata={'prompt_feedback': {'block_reason': 0, 'safety_ratings': []}, 'finish_reason': 'STOP', 'safety_ratings': []}, id='run-1e6e07af-cf2e-4c30-bac1-54d1738eb249-0', usage_metadata={'input_tokens': 39, 'output_tokens': 53, 'total_tokens': 92, 'input_token_details': {'cache_read': 0}})]\n",
      "==================================\u001b[1m Ai Message \u001b[0m==================================\n",
      "\n",
      "Bob.  A...mundane designation.  Is that your true name, or a mere label assigned by the Administratum?  Regardless, state your purpose.  The God-Emperor protects only the worthy, and I have little patience for idle chatter.  Speak!\n"
     ]
    }
   ],
   "source": [
    "config = RunnableConfig({\"configurable\": {\"thread_id\": \"ab12\"}})\n",
    "\n",
    "query = \"Hi! I'm Bob.\"\n",
    "\n",
    "input_messages = [HumanMessage(query)]\n",
    "output = app.invoke({\"messages\": input_messages}, config)\n",
    "output[\"messages\"][-1].pretty_print()  # output contains all messages in state"
   ]
  },
  {
   "cell_type": "code",
   "execution_count": null,
   "metadata": {},
   "outputs": [
    {
     "data": {
      "text/plain": [
       "'By the Emperor!  Another soul lost in the immensity of the Imperium.  Greetings, Bob.  State your business swiftly and concisely.  Time is a precious commodity, even more so in these dark times.  What is your requisition?\\n,Bob.  A...mundane designation.  Is that your true name, or a mere label assigned by the Administratum?  Regardless, state your purpose.  The God-Emperor protects only the worthy, and I have little patience for idle chatter.  Speak!\\n'"
      ]
     },
     "execution_count": 11,
     "metadata": {},
     "output_type": "execute_result"
    }
   ],
   "source": [
    "f\"{(','.join(x.content for x in output['messages']))}\""
   ]
  },
  {
   "cell_type": "markdown",
   "metadata": {},
   "source": [
    "# state"
   ]
  },
  {
   "cell_type": "code",
   "execution_count": 12,
   "metadata": {},
   "outputs": [
    {
     "name": "stdout",
     "output_type": "stream",
     "text": [
      "StateSnapshot(values={'question': [HumanMessage(content=\"Hi! I'm Bob.\", additional_kwargs={}, response_metadata={})], 'history': [AIMessage(content='By the Emperor!  Another soul lost in the immensity of the Imperium.  Greetings, Bob.  State your business swiftly and concisely.  Time is a precious commodity, even more so in these dark times.  What is your requisition?\\n', additional_kwargs={}, response_metadata={'prompt_feedback': {'block_reason': 0, 'safety_ratings': []}, 'finish_reason': 'STOP', 'safety_ratings': []}, id='run-1e6e07af-cf2e-4c30-bac1-54d1738eb249-0', usage_metadata={'input_tokens': 39, 'output_tokens': 53, 'total_tokens': 92, 'input_token_details': {'cache_read': 0}}), AIMessage(content='Bob.  A...mundane designation.  Is that your true name, or a mere label assigned by the Administratum?  Regardless, state your purpose.  The God-Emperor protects only the worthy, and I have little patience for idle chatter.  Speak!\\n', additional_kwargs={}, response_metadata={'prompt_feedback': {'block_reason': 0, 'safety_ratings': []}, 'finish_reason': 'STOP', 'safety_ratings': []}, id='run-995e5d81-1055-441c-819e-772ea61dde84-0', usage_metadata={'input_tokens': 93, 'output_tokens': 57, 'total_tokens': 150, 'input_token_details': {'cache_read': 0}})]}, next=(), config={'configurable': {'thread_id': 'ab12', 'checkpoint_ns': '', 'checkpoint_id': '1efb5a91-c48c-6372-8004-c7feae83eb4f'}}, metadata={'source': 'loop', 'writes': {'model': {'history': AIMessage(content='Bob.  A...mundane designation.  Is that your true name, or a mere label assigned by the Administratum?  Regardless, state your purpose.  The God-Emperor protects only the worthy, and I have little patience for idle chatter.  Speak!\\n', additional_kwargs={}, response_metadata={'prompt_feedback': {'block_reason': 0, 'safety_ratings': []}, 'finish_reason': 'STOP', 'safety_ratings': []}, id='run-995e5d81-1055-441c-819e-772ea61dde84-0', usage_metadata={'input_tokens': 93, 'output_tokens': 57, 'total_tokens': 150, 'input_token_details': {'cache_read': 0}})}}, 'thread_id': 'ab12', 'step': 4, 'parents': {}}, created_at='2024-12-08T21:12:20.040587+00:00', parent_config={'configurable': {'thread_id': 'ab12', 'checkpoint_ns': '', 'checkpoint_id': '1efb5a91-bd0a-604c-8003-e1f6015be01a'}}, tasks=())\n",
      "StateSnapshot(values={'question': [HumanMessage(content=\"Hi! I'm Bob.\", additional_kwargs={}, response_metadata={})], 'history': [AIMessage(content='By the Emperor!  Another soul lost in the immensity of the Imperium.  Greetings, Bob.  State your business swiftly and concisely.  Time is a precious commodity, even more so in these dark times.  What is your requisition?\\n', additional_kwargs={}, response_metadata={'prompt_feedback': {'block_reason': 0, 'safety_ratings': []}, 'finish_reason': 'STOP', 'safety_ratings': []}, id='run-1e6e07af-cf2e-4c30-bac1-54d1738eb249-0', usage_metadata={'input_tokens': 39, 'output_tokens': 53, 'total_tokens': 92, 'input_token_details': {'cache_read': 0}})]}, next=('model',), config={'configurable': {'thread_id': 'ab12', 'checkpoint_ns': '', 'checkpoint_id': '1efb5a91-bd0a-604c-8003-e1f6015be01a'}}, metadata={'source': 'loop', 'writes': None, 'thread_id': 'ab12', 'step': 3, 'parents': {}}, created_at='2024-12-08T21:12:19.253255+00:00', parent_config={'configurable': {'thread_id': 'ab12', 'checkpoint_ns': '', 'checkpoint_id': '1efb5a91-bd05-622c-8002-ed3274233283'}}, tasks=(PregelTask(id='0fe91851-15f5-3650-67b5-c64eacfae14a', name='model', path=('__pregel_pull', 'model'), error=None, interrupts=(), state=None, result={'history': AIMessage(content='Bob.  A...mundane designation.  Is that your true name, or a mere label assigned by the Administratum?  Regardless, state your purpose.  The God-Emperor protects only the worthy, and I have little patience for idle chatter.  Speak!\\n', additional_kwargs={}, response_metadata={'prompt_feedback': {'block_reason': 0, 'safety_ratings': []}, 'finish_reason': 'STOP', 'safety_ratings': []}, id='run-995e5d81-1055-441c-819e-772ea61dde84-0', usage_metadata={'input_tokens': 93, 'output_tokens': 57, 'total_tokens': 150, 'input_token_details': {'cache_read': 0}})}),))\n",
      "StateSnapshot(values={'question': [HumanMessage(content=\"Hi! I'm Bob.\", additional_kwargs={}, response_metadata={})], 'history': [AIMessage(content='By the Emperor!  Another soul lost in the immensity of the Imperium.  Greetings, Bob.  State your business swiftly and concisely.  Time is a precious commodity, even more so in these dark times.  What is your requisition?\\n', additional_kwargs={}, response_metadata={'prompt_feedback': {'block_reason': 0, 'safety_ratings': []}, 'finish_reason': 'STOP', 'safety_ratings': []}, id='run-1e6e07af-cf2e-4c30-bac1-54d1738eb249-0', usage_metadata={'input_tokens': 39, 'output_tokens': 53, 'total_tokens': 92, 'input_token_details': {'cache_read': 0}})]}, next=('__start__',), config={'configurable': {'thread_id': 'ab12', 'checkpoint_ns': '', 'checkpoint_id': '1efb5a91-bd05-622c-8002-ed3274233283'}}, metadata={'source': 'input', 'writes': {'__start__': {'question': [HumanMessage(content=\"Hi! I'm Bob.\", additional_kwargs={}, response_metadata={})]}}, 'thread_id': 'ab12', 'step': 2, 'parents': {}}, created_at='2024-12-08T21:12:19.251255+00:00', parent_config={'configurable': {'thread_id': 'ab12', 'checkpoint_ns': '', 'checkpoint_id': '1efb5a91-74bf-6206-8001-959d70cd90e2'}}, tasks=(PregelTask(id='e2e2ed5a-c77d-9b87-9054-729e88572b7b', name='__start__', path=('__pregel_pull', '__start__'), error=None, interrupts=(), state=None, result={'question': [HumanMessage(content=\"Hi! I'm Bob.\", additional_kwargs={}, response_metadata={})]}),))\n",
      "StateSnapshot(values={'question': [HumanMessage(content=\"Hi! I'm Bob.\", additional_kwargs={}, response_metadata={})], 'history': [AIMessage(content='By the Emperor!  Another soul lost in the immensity of the Imperium.  Greetings, Bob.  State your business swiftly and concisely.  Time is a precious commodity, even more so in these dark times.  What is your requisition?\\n', additional_kwargs={}, response_metadata={'prompt_feedback': {'block_reason': 0, 'safety_ratings': []}, 'finish_reason': 'STOP', 'safety_ratings': []}, id='run-1e6e07af-cf2e-4c30-bac1-54d1738eb249-0', usage_metadata={'input_tokens': 39, 'output_tokens': 53, 'total_tokens': 92, 'input_token_details': {'cache_read': 0}})]}, next=(), config={'configurable': {'thread_id': 'ab12', 'checkpoint_ns': '', 'checkpoint_id': '1efb5a91-74bf-6206-8001-959d70cd90e2'}}, metadata={'source': 'loop', 'writes': {'model': {'history': AIMessage(content='By the Emperor!  Another soul lost in the immensity of the Imperium.  Greetings, Bob.  State your business swiftly and concisely.  Time is a precious commodity, even more so in these dark times.  What is your requisition?\\n', additional_kwargs={}, response_metadata={'prompt_feedback': {'block_reason': 0, 'safety_ratings': []}, 'finish_reason': 'STOP', 'safety_ratings': []}, id='run-1e6e07af-cf2e-4c30-bac1-54d1738eb249-0', usage_metadata={'input_tokens': 39, 'output_tokens': 53, 'total_tokens': 92, 'input_token_details': {'cache_read': 0}})}}, 'thread_id': 'ab12', 'step': 1, 'parents': {}}, created_at='2024-12-08T21:12:11.672832+00:00', parent_config={'configurable': {'thread_id': 'ab12', 'checkpoint_ns': '', 'checkpoint_id': '1efb5a91-6720-6726-8000-8dfa0a92f18f'}}, tasks=())\n",
      "StateSnapshot(values={'question': [HumanMessage(content=\"Hi! I'm Bob.\", additional_kwargs={}, response_metadata={})], 'history': []}, next=('model',), config={'configurable': {'thread_id': 'ab12', 'checkpoint_ns': '', 'checkpoint_id': '1efb5a91-6720-6726-8000-8dfa0a92f18f'}}, metadata={'source': 'loop', 'writes': None, 'thread_id': 'ab12', 'step': 0, 'parents': {}}, created_at='2024-12-08T21:12:10.244688+00:00', parent_config={'configurable': {'thread_id': 'ab12', 'checkpoint_ns': '', 'checkpoint_id': '1efb5a91-671b-6908-bfff-c13862c23686'}}, tasks=(PregelTask(id='3dbdf410-d6c2-7a82-5999-8e8336268c91', name='model', path=('__pregel_pull', 'model'), error=None, interrupts=(), state=None, result={'history': AIMessage(content='By the Emperor!  Another soul lost in the immensity of the Imperium.  Greetings, Bob.  State your business swiftly and concisely.  Time is a precious commodity, even more so in these dark times.  What is your requisition?\\n', additional_kwargs={}, response_metadata={'prompt_feedback': {'block_reason': 0, 'safety_ratings': []}, 'finish_reason': 'STOP', 'safety_ratings': []}, id='run-1e6e07af-cf2e-4c30-bac1-54d1738eb249-0', usage_metadata={'input_tokens': 39, 'output_tokens': 53, 'total_tokens': 92, 'input_token_details': {'cache_read': 0}})}),))\n",
      "StateSnapshot(values={'history': []}, next=('__start__',), config={'configurable': {'thread_id': 'ab12', 'checkpoint_ns': '', 'checkpoint_id': '1efb5a91-671b-6908-bfff-c13862c23686'}}, metadata={'source': 'input', 'writes': {'__start__': {'question': [HumanMessage(content=\"Hi! I'm Bob.\", additional_kwargs={}, response_metadata={})]}}, 'thread_id': 'ab12', 'step': -1, 'parents': {}}, created_at='2024-12-08T21:12:10.242688+00:00', parent_config=None, tasks=(PregelTask(id='dc482b5c-48c3-8f10-34a4-19cce12c4866', name='__start__', path=('__pregel_pull', '__start__'), error=None, interrupts=(), state=None, result={'question': [HumanMessage(content=\"Hi! I'm Bob.\", additional_kwargs={}, response_metadata={})]}),))\n"
     ]
    }
   ],
   "source": [
    "for state in app.get_state_history(config):\n",
    "    print(state)"
   ]
  },
  {
   "cell_type": "code",
   "execution_count": 116,
   "metadata": {},
   "outputs": [
    {
     "data": {
      "text/plain": [
       "\"Hi! I'm Bob.\""
      ]
     },
     "execution_count": 116,
     "metadata": {},
     "output_type": "execute_result"
    }
   ],
   "source": [
    "app.get_state(config).values['messages'][0].content"
   ]
  },
  {
   "cell_type": "markdown",
   "metadata": {},
   "source": [
    "# streaming"
   ]
  },
  {
   "cell_type": "code",
   "execution_count": 117,
   "metadata": {},
   "outputs": [
    {
     "name": "stdout",
     "output_type": "stream",
     "text": [
      "Hi| Bob! It's nice to meet you.  How are you doing today|?\n",
      "|"
     ]
    }
   ],
   "source": [
    "config = RunnableConfig({\"configurable\": {\"thread_id\": \"ab12\"}})\n",
    "\n",
    "input_messages = [HumanMessage(query)]\n",
    "for chunk, metadata in app.stream(\n",
    "    {\"messages\": input_messages},\n",
    "    config,\n",
    "    stream_mode=\"messages\",\n",
    "):\n",
    "    if isinstance(chunk, AIMessage):  # Filter to just model responses\n",
    "        print(chunk.content, end=\"|\")"
   ]
  },
  {
   "cell_type": "code",
   "execution_count": 118,
   "metadata": {},
   "outputs": [
    {
     "name": "stdout",
     "output_type": "stream",
     "text": [
      "StateSnapshot(values={'messages': [HumanMessage(content=\"Hi! I'm Bob.\", additional_kwargs={}, response_metadata={}, id='0c0bce94-0a5c-4fa7-9994-3afbdf526d88'), AIMessage(content='Hi Bob!  Nice to meet you. How can I help you today?\\n', additional_kwargs={}, response_metadata={'prompt_feedback': {'block_reason': 0, 'safety_ratings': []}, 'finish_reason': 'STOP', 'safety_ratings': []}, id='run-795101d2-c145-4871-af78-86f3effec4ad-0', usage_metadata={'input_tokens': 8, 'output_tokens': 17, 'total_tokens': 25, 'input_token_details': {'cache_read': 0}}), HumanMessage(content=\"Hi! I'm Bob.\", additional_kwargs={}, response_metadata={}, id='289ebd3f-8d70-4c68-a86c-38d4d52367c4'), AIMessage(content=\"Hi Bob! It's nice to meet you.  How are you doing today?\\n\", additional_kwargs={}, response_metadata={'safety_ratings': [], 'finish_reason': 'STOP'}, id='run-34a8b265-c389-4a94-816f-ef7d92b1c967', usage_metadata={'input_tokens': 34, 'output_tokens': 19, 'total_tokens': 53, 'input_token_details': {'cache_read': 0}})]}, next=(), config={'configurable': {'thread_id': 'ab12', 'checkpoint_ns': '', 'checkpoint_id': '1efb4b6e-d3df-6c98-8004-271711563bfa'}}, metadata={'source': 'loop', 'writes': {'model': {'messages': AIMessage(content=\"Hi Bob! It's nice to meet you.  How are you doing today?\\n\", additional_kwargs={}, response_metadata={'safety_ratings': [], 'finish_reason': 'STOP'}, id='run-34a8b265-c389-4a94-816f-ef7d92b1c967', usage_metadata={'input_tokens': 34, 'output_tokens': 19, 'total_tokens': 53, 'input_token_details': {'cache_read': 0}})}}, 'thread_id': 'ab12', 'step': 4, 'parents': {}}, created_at='2024-12-07T16:18:42.908482+00:00', parent_config={'configurable': {'thread_id': 'ab12', 'checkpoint_ns': '', 'checkpoint_id': '1efb4b6e-ce80-6487-8003-2ed5d0888e70'}}, tasks=())\n",
      "StateSnapshot(values={'messages': [HumanMessage(content=\"Hi! I'm Bob.\", additional_kwargs={}, response_metadata={}, id='0c0bce94-0a5c-4fa7-9994-3afbdf526d88'), AIMessage(content='Hi Bob!  Nice to meet you. How can I help you today?\\n', additional_kwargs={}, response_metadata={'prompt_feedback': {'block_reason': 0, 'safety_ratings': []}, 'finish_reason': 'STOP', 'safety_ratings': []}, id='run-795101d2-c145-4871-af78-86f3effec4ad-0', usage_metadata={'input_tokens': 8, 'output_tokens': 17, 'total_tokens': 25, 'input_token_details': {'cache_read': 0}}), HumanMessage(content=\"Hi! I'm Bob.\", additional_kwargs={}, response_metadata={}, id='289ebd3f-8d70-4c68-a86c-38d4d52367c4')]}, next=('model',), config={'configurable': {'thread_id': 'ab12', 'checkpoint_ns': '', 'checkpoint_id': '1efb4b6e-ce80-6487-8003-2ed5d0888e70'}}, metadata={'source': 'loop', 'writes': None, 'thread_id': 'ab12', 'step': 3, 'parents': {}}, created_at='2024-12-07T16:18:42.345075+00:00', parent_config={'configurable': {'thread_id': 'ab12', 'checkpoint_ns': '', 'checkpoint_id': '1efb4b6e-ce7b-6673-8002-5df8b5444d11'}}, tasks=(PregelTask(id='ce6e1892-1f44-1caf-e9c7-c7c30991c683', name='model', path=('__pregel_pull', 'model'), error=None, interrupts=(), state=None, result={'messages': AIMessage(content=\"Hi Bob! It's nice to meet you.  How are you doing today?\\n\", additional_kwargs={}, response_metadata={'safety_ratings': [], 'finish_reason': 'STOP'}, id='run-34a8b265-c389-4a94-816f-ef7d92b1c967', usage_metadata={'input_tokens': 34, 'output_tokens': 19, 'total_tokens': 53, 'input_token_details': {'cache_read': 0}})}),))\n",
      "StateSnapshot(values={'messages': [HumanMessage(content=\"Hi! I'm Bob.\", additional_kwargs={}, response_metadata={}, id='0c0bce94-0a5c-4fa7-9994-3afbdf526d88'), AIMessage(content='Hi Bob!  Nice to meet you. How can I help you today?\\n', additional_kwargs={}, response_metadata={'prompt_feedback': {'block_reason': 0, 'safety_ratings': []}, 'finish_reason': 'STOP', 'safety_ratings': []}, id='run-795101d2-c145-4871-af78-86f3effec4ad-0', usage_metadata={'input_tokens': 8, 'output_tokens': 17, 'total_tokens': 25, 'input_token_details': {'cache_read': 0}})]}, next=('__start__',), config={'configurable': {'thread_id': 'ab12', 'checkpoint_ns': '', 'checkpoint_id': '1efb4b6e-ce7b-6673-8002-5df8b5444d11'}}, metadata={'source': 'input', 'writes': {'__start__': {'messages': [HumanMessage(content=\"Hi! I'm Bob.\", additional_kwargs={}, response_metadata={})]}}, 'thread_id': 'ab12', 'step': 2, 'parents': {}}, created_at='2024-12-07T16:18:42.343077+00:00', parent_config={'configurable': {'thread_id': 'ab12', 'checkpoint_ns': '', 'checkpoint_id': '1efb4b6e-cdf5-61f7-8001-fa2018129fc1'}}, tasks=(PregelTask(id='834e75a2-e953-768c-f2d4-8edf393c1586', name='__start__', path=('__pregel_pull', '__start__'), error=None, interrupts=(), state=None, result={'messages': [HumanMessage(content=\"Hi! I'm Bob.\", additional_kwargs={}, response_metadata={}, id='289ebd3f-8d70-4c68-a86c-38d4d52367c4')]}),))\n",
      "StateSnapshot(values={'messages': [HumanMessage(content=\"Hi! I'm Bob.\", additional_kwargs={}, response_metadata={}, id='0c0bce94-0a5c-4fa7-9994-3afbdf526d88'), AIMessage(content='Hi Bob!  Nice to meet you. How can I help you today?\\n', additional_kwargs={}, response_metadata={'prompt_feedback': {'block_reason': 0, 'safety_ratings': []}, 'finish_reason': 'STOP', 'safety_ratings': []}, id='run-795101d2-c145-4871-af78-86f3effec4ad-0', usage_metadata={'input_tokens': 8, 'output_tokens': 17, 'total_tokens': 25, 'input_token_details': {'cache_read': 0}})]}, next=(), config={'configurable': {'thread_id': 'ab12', 'checkpoint_ns': '', 'checkpoint_id': '1efb4b6e-cdf5-61f7-8001-fa2018129fc1'}}, metadata={'source': 'loop', 'writes': {'model': {'messages': AIMessage(content='Hi Bob!  Nice to meet you. How can I help you today?\\n', additional_kwargs={}, response_metadata={'prompt_feedback': {'block_reason': 0, 'safety_ratings': []}, 'finish_reason': 'STOP', 'safety_ratings': []}, id='run-795101d2-c145-4871-af78-86f3effec4ad-0', usage_metadata={'input_tokens': 8, 'output_tokens': 17, 'total_tokens': 25, 'input_token_details': {'cache_read': 0}})}}, 'thread_id': 'ab12', 'step': 1, 'parents': {}}, created_at='2024-12-07T16:18:42.288075+00:00', parent_config={'configurable': {'thread_id': 'ab12', 'checkpoint_ns': '', 'checkpoint_id': '1efb4b6e-c84e-6cba-8000-8e84f7cf29f4'}}, tasks=())\n",
      "StateSnapshot(values={'messages': [HumanMessage(content=\"Hi! I'm Bob.\", additional_kwargs={}, response_metadata={}, id='0c0bce94-0a5c-4fa7-9994-3afbdf526d88')]}, next=('model',), config={'configurable': {'thread_id': 'ab12', 'checkpoint_ns': '', 'checkpoint_id': '1efb4b6e-c84e-6cba-8000-8e84f7cf29f4'}}, metadata={'source': 'loop', 'writes': None, 'thread_id': 'ab12', 'step': 0, 'parents': {}}, created_at='2024-12-07T16:18:41.695660+00:00', parent_config={'configurable': {'thread_id': 'ab12', 'checkpoint_ns': '', 'checkpoint_id': '1efb4b6e-c84c-65a8-bfff-7ec7b1f5bed5'}}, tasks=(PregelTask(id='756484f2-5528-0bfe-cf95-8b68e2f28523', name='model', path=('__pregel_pull', 'model'), error=None, interrupts=(), state=None, result={'messages': AIMessage(content='Hi Bob!  Nice to meet you. How can I help you today?\\n', additional_kwargs={}, response_metadata={'prompt_feedback': {'block_reason': 0, 'safety_ratings': []}, 'finish_reason': 'STOP', 'safety_ratings': []}, id='run-795101d2-c145-4871-af78-86f3effec4ad-0', usage_metadata={'input_tokens': 8, 'output_tokens': 17, 'total_tokens': 25, 'input_token_details': {'cache_read': 0}})}),))\n",
      "StateSnapshot(values={'messages': []}, next=('__start__',), config={'configurable': {'thread_id': 'ab12', 'checkpoint_ns': '', 'checkpoint_id': '1efb4b6e-c84c-65a8-bfff-7ec7b1f5bed5'}}, metadata={'source': 'input', 'writes': {'__start__': {'messages': [HumanMessage(content=\"Hi! I'm Bob.\", additional_kwargs={}, response_metadata={})]}}, 'thread_id': 'ab12', 'step': -1, 'parents': {}}, created_at='2024-12-07T16:18:41.694659+00:00', parent_config=None, tasks=(PregelTask(id='441fe5f4-a444-1207-b71a-7163365db95d', name='__start__', path=('__pregel_pull', '__start__'), error=None, interrupts=(), state=None, result={'messages': [HumanMessage(content=\"Hi! I'm Bob.\", additional_kwargs={}, response_metadata={}, id='0c0bce94-0a5c-4fa7-9994-3afbdf526d88')]}),))\n"
     ]
    }
   ],
   "source": [
    "hist = app.get_state_history(config)\n",
    "for e in hist:\n",
    "    print(e)"
   ]
  },
  {
   "cell_type": "markdown",
   "metadata": {},
   "source": [
    "# other"
   ]
  },
  {
   "cell_type": "code",
   "execution_count": null,
   "metadata": {},
   "outputs": [],
   "source": []
  }
 ],
 "metadata": {
  "kernelspec": {
   "display_name": ".venv",
   "language": "python",
   "name": "python3"
  },
  "language_info": {
   "codemirror_mode": {
    "name": "ipython",
    "version": 3
   },
   "file_extension": ".py",
   "mimetype": "text/x-python",
   "name": "python",
   "nbconvert_exporter": "python",
   "pygments_lexer": "ipython3",
   "version": "3.10.1"
  }
 },
 "nbformat": 4,
 "nbformat_minor": 2
}
