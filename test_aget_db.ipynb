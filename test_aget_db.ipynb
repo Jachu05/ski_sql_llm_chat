{
 "cells": [
  {
   "cell_type": "code",
   "execution_count": 8,
   "metadata": {},
   "outputs": [
    {
     "data": {
      "text/plain": [
       "True"
      ]
     },
     "execution_count": 8,
     "metadata": {},
     "output_type": "execute_result"
    }
   ],
   "source": [
    "from dotenv import load_dotenv\n",
    "import llm_utils\n",
    "from langchain_core.runnables.config import RunnableConfig\n",
    "\n",
    "load_dotenv()"
   ]
  },
  {
   "cell_type": "code",
   "execution_count": 9,
   "metadata": {},
   "outputs": [
    {
     "name": "stdout",
     "output_type": "stream",
     "text": [
      "sqlite\n",
      "['Album', 'Artist', 'Customer', 'Employee', 'Genre', 'Invoice', 'InvoiceLine', 'MediaType', 'Playlist', 'PlaylistTrack', 'Track']\n"
     ]
    },
    {
     "data": {
      "text/plain": [
       "\"[('Apocalyptica',), ('Apocalyptica',), ('Apocalyptica',), ('Apocalyptica',), ('Apocalyptica',), ('Apocalyptica',), ('Apocalyptica',), ('Apocalyptica',), ('Black Label Society',), ('Black Label Society',)]\""
      ]
     },
     "execution_count": 9,
     "metadata": {},
     "output_type": "execute_result"
    }
   ],
   "source": [
    "from langchain_community.utilities import SQLDatabase\n",
    "\n",
    "db = SQLDatabase.from_uri(\"sqlite:///Chinook.db\")\n",
    "print(db.dialect)\n",
    "print(db.get_usable_table_names())\n",
    "db.run(rf'SELECT T1.Name FROM Artist AS T1 INNER JOIN Album AS T2 ON T1.ArtistId  =  T2.ArtistId INNER JOIN Track AS T3 ON T2.AlbumId  =  T3.AlbumId INNER JOIN Genre AS T4 ON T3.GenreId  =  T4.GenreId WHERE T4.Name  =  \\\\\"Metal\\\\\" LIMIT 10'.replace('\\\\', ''))"
   ]
  },
  {
   "cell_type": "code",
   "execution_count": 10,
   "metadata": {},
   "outputs": [],
   "source": [
    "from langchain_google_genai import ChatGoogleGenerativeAI\n",
    "llm = ChatGoogleGenerativeAI(model=\"gemini-1.5-flash\", temperature=0)"
   ]
  },
  {
   "cell_type": "code",
   "execution_count": 11,
   "metadata": {},
   "outputs": [],
   "source": [
    "app = llm_utils.get_app()"
   ]
  },
  {
   "cell_type": "code",
   "execution_count": 12,
   "metadata": {},
   "outputs": [
    {
     "name": "stdout",
     "output_type": "stream",
     "text": [
      "content='search_db_and_answer'\n",
      "{'write_query': {'query': 'SELECT T1.Name FROM Artist AS T1 INNER JOIN Album AS T2 ON T1.ArtistId  =  T2.ArtistId INNER JOIN Track AS T3 ON T2.AlbumId  =  T3.AlbumId INNER JOIN Genre AS T4 ON T3.GenreId  =  T4.GenreId WHERE T4.Name  =  \\\\\"Rock\\\\\" LIMIT 10'}}\n",
      "{'execute_query': {'result': \"[('AC/DC',), ('Accept',), ('Accept',), ('Accept',), ('Accept',), ('AC/DC',), ('AC/DC',), ('AC/DC',), ('AC/DC',), ('AC/DC',)]\"}}\n",
      "{'generate_answer': {'messages': AIMessage(content='The provided database query and results only show artists associated with the \"Rock\" genre.  Avenged Sevenfold is also a rock band, so the query results are a starting point for recommendations.  The query returns AC/DC and Accept as artists with \"Rock\" genre music.  To give you better recommendations similar to Avenged Sevenfold, I need a database that includes more information like subgenres (e.g., metalcore, melodic metal),  artist similarity scores, or user listening history.  The current data is insufficient to provide tailored recommendations.\\n', additional_kwargs={}, response_metadata={'prompt_feedback': {'block_reason': 0, 'safety_ratings': []}, 'finish_reason': 'STOP', 'safety_ratings': []}, id='run-85dd78bd-0595-4db6-b6d2-43ebe27a6e1f-0', usage_metadata={'input_tokens': 184, 'output_tokens': 114, 'total_tokens': 298, 'input_token_details': {'cache_read': 0}})}}\n"
     ]
    }
   ],
   "source": [
    "from langchain_core.messages import HumanMessage\n",
    "\n",
    "config = RunnableConfig({\"configurable\": {\"thread_id\": \"ab12\"}})\n",
    "\n",
    "query = \"I like Avenged Sevenfold, what options do you have simillar to that?\"\n",
    "input_messages = [HumanMessage(query)]\n",
    "\n",
    "for event in app.stream(\n",
    "    {\"messages\": input_messages}, config\n",
    "):\n",
    "    print(event)"
   ]
  },
  {
   "cell_type": "code",
   "execution_count": 14,
   "metadata": {},
   "outputs": [
    {
     "name": "stdout",
     "output_type": "stream",
     "text": [
      "content='generate_only_from_llm'\n",
      "{'generate_only_from_llm': {'messages': AIMessage(content=\"Brother, attempting to operate an automobile without proper instruction is akin to charging into battle with a lasgun that's jammed – a recipe for disaster!  Driving is a complex undertaking, requiring not only mechanical aptitude but also a profound understanding of traffic laws and the sacred duty of preserving one's own life and the lives of others.  \\n\\nTo learn to drive safely and legally, you must:\\n\\n1. **Seek the guidance of a qualified instructor:**  Find a reputable driving school or a trusted, experienced driver willing to impart their knowledge.  This is not a task to be undertaken alone.  Improper training is a heresy against the Emperor's grace.\\n\\n2. **Obtain the necessary documentation:**  This includes a learner's permit (or equivalent) and any other legal requirements in your sector.  Failure to comply with the laws of the Imperium is punishable by... well, let's just say it's not pleasant.\\n\\n3. **Master the fundamentals:**  This includes starting the engine, operating the clutch (if applicable), shifting gears, using the steering wheel, braking, and signaling.  Practice these skills diligently in a safe, controlled environment.  Rushing this process is a path to ruin.\\n\\n4. **Learn the rules of the road:**  Traffic laws are not mere suggestions; they are the sacred edicts that maintain order and prevent chaos on the highways.  Study them thoroughly and obey them without question.\\n\\n5. **Practice, practice, practice:**  Driving is a skill honed through repetition and experience.  The more you practice under supervision, the more confident and competent you will become.\\n\\n6. **Maintain vigilance:**  Always be aware of your surroundings, anticipate the actions of other drivers, and react appropriately to unexpected situations.  Complacency is the enemy of survival.\\n\\n7. **Respect the machine:**  Treat your vehicle with the respect it deserves.  Regular maintenance is crucial to ensure its continued functionality and your safety.\\n\\nRemember, brother, the road is a battlefield.  Drive with caution, skill, and the unwavering devotion to the Emperor's will, and you may yet survive to fight another day.  Failure to do so will result in… unpleasant consequences.\\n\", additional_kwargs={}, response_metadata={'prompt_feedback': {'block_reason': 0, 'safety_ratings': []}, 'finish_reason': 'STOP', 'safety_ratings': []}, id='run-604a099d-a4d2-46b7-90fe-aa8f85ba2114-0', usage_metadata={'input_tokens': 155, 'output_tokens': 456, 'total_tokens': 611, 'input_token_details': {'cache_read': 0}})}}\n"
     ]
    }
   ],
   "source": [
    "config = RunnableConfig({\"configurable\": {\"thread_id\": \"ab12\"}})\n",
    "\n",
    "query = \"how to drive a car\"\n",
    "input_messages = [HumanMessage(query)]\n",
    "\n",
    "for event in app.stream(\n",
    "    {\"messages\": input_messages}, config\n",
    "):\n",
    "    print(event)"
   ]
  },
  {
   "cell_type": "code",
   "execution_count": 15,
   "metadata": {},
   "outputs": [
    {
     "name": "stdout",
     "output_type": "stream",
     "text": [
      "StateSnapshot(values={'messages': [HumanMessage(content='I like Avenged Sevenfold, what options do you have simillar to that?', additional_kwargs={}, response_metadata={}, id='aed3038a-cfb2-48ea-9b78-5e2ac6ee84f1'), AIMessage(content='The provided database query and results only show artists associated with the \"Rock\" genre.  Avenged Sevenfold is also a rock band, so the query results are a starting point for recommendations.  The query returns AC/DC and Accept as artists with \"Rock\" genre music.  To give you better recommendations similar to Avenged Sevenfold, I need a database that includes more information like subgenres (e.g., metalcore, melodic metal),  artist similarity scores, or user listening history.  The current data is insufficient to provide tailored recommendations.\\n', additional_kwargs={}, response_metadata={'prompt_feedback': {'block_reason': 0, 'safety_ratings': []}, 'finish_reason': 'STOP', 'safety_ratings': []}, id='run-85dd78bd-0595-4db6-b6d2-43ebe27a6e1f-0', usage_metadata={'input_tokens': 184, 'output_tokens': 114, 'total_tokens': 298, 'input_token_details': {'cache_read': 0}}), HumanMessage(content='how to drive a car', additional_kwargs={}, response_metadata={}, id='e1445da2-c38a-47ce-9bcf-a79c5438ad51'), AIMessage(content=\"Brother, attempting to operate an automobile without proper instruction is akin to charging into battle with a lasgun that's jammed – a recipe for disaster!  Driving is a complex undertaking, requiring not only mechanical aptitude but also a profound understanding of traffic laws and the sacred duty of preserving one's own life and the lives of others.  \\n\\nTo learn to drive safely and legally, you must:\\n\\n1. **Seek the guidance of a qualified instructor:**  Find a reputable driving school or a trusted, experienced driver willing to impart their knowledge.  This is not a task to be undertaken alone.  Improper training is a heresy against the Emperor's grace.\\n\\n2. **Obtain the necessary documentation:**  This includes a learner's permit (or equivalent) and any other legal requirements in your sector.  Failure to comply with the laws of the Imperium is punishable by... well, let's just say it's not pleasant.\\n\\n3. **Master the fundamentals:**  This includes starting the engine, operating the clutch (if applicable), shifting gears, using the steering wheel, braking, and signaling.  Practice these skills diligently in a safe, controlled environment.  Rushing this process is a path to ruin.\\n\\n4. **Learn the rules of the road:**  Traffic laws are not mere suggestions; they are the sacred edicts that maintain order and prevent chaos on the highways.  Study them thoroughly and obey them without question.\\n\\n5. **Practice, practice, practice:**  Driving is a skill honed through repetition and experience.  The more you practice under supervision, the more confident and competent you will become.\\n\\n6. **Maintain vigilance:**  Always be aware of your surroundings, anticipate the actions of other drivers, and react appropriately to unexpected situations.  Complacency is the enemy of survival.\\n\\n7. **Respect the machine:**  Treat your vehicle with the respect it deserves.  Regular maintenance is crucial to ensure its continued functionality and your safety.\\n\\nRemember, brother, the road is a battlefield.  Drive with caution, skill, and the unwavering devotion to the Emperor's will, and you may yet survive to fight another day.  Failure to do so will result in… unpleasant consequences.\\n\", additional_kwargs={}, response_metadata={'prompt_feedback': {'block_reason': 0, 'safety_ratings': []}, 'finish_reason': 'STOP', 'safety_ratings': []}, id='run-604a099d-a4d2-46b7-90fe-aa8f85ba2114-0', usage_metadata={'input_tokens': 155, 'output_tokens': 456, 'total_tokens': 611, 'input_token_details': {'cache_read': 0}})], 'query': 'SELECT T1.Name FROM Artist AS T1 INNER JOIN Album AS T2 ON T1.ArtistId  =  T2.ArtistId INNER JOIN Track AS T3 ON T2.AlbumId  =  T3.AlbumId INNER JOIN Genre AS T4 ON T3.GenreId  =  T4.GenreId WHERE T4.Name  =  \\\\\"Rock\\\\\" LIMIT 10', 'result': \"[('AC/DC',), ('Accept',), ('Accept',), ('Accept',), ('Accept',), ('AC/DC',), ('AC/DC',), ('AC/DC',), ('AC/DC',), ('AC/DC',)]\"}, next=(), config={'configurable': {'thread_id': 'ab12', 'checkpoint_ns': '', 'checkpoint_id': '1efb5b3d-83a5-613c-8007-be4011adcc4a'}}, metadata={'source': 'loop', 'writes': {'generate_only_from_llm': {'messages': AIMessage(content=\"Brother, attempting to operate an automobile without proper instruction is akin to charging into battle with a lasgun that's jammed – a recipe for disaster!  Driving is a complex undertaking, requiring not only mechanical aptitude but also a profound understanding of traffic laws and the sacred duty of preserving one's own life and the lives of others.  \\n\\nTo learn to drive safely and legally, you must:\\n\\n1. **Seek the guidance of a qualified instructor:**  Find a reputable driving school or a trusted, experienced driver willing to impart their knowledge.  This is not a task to be undertaken alone.  Improper training is a heresy against the Emperor's grace.\\n\\n2. **Obtain the necessary documentation:**  This includes a learner's permit (or equivalent) and any other legal requirements in your sector.  Failure to comply with the laws of the Imperium is punishable by... well, let's just say it's not pleasant.\\n\\n3. **Master the fundamentals:**  This includes starting the engine, operating the clutch (if applicable), shifting gears, using the steering wheel, braking, and signaling.  Practice these skills diligently in a safe, controlled environment.  Rushing this process is a path to ruin.\\n\\n4. **Learn the rules of the road:**  Traffic laws are not mere suggestions; they are the sacred edicts that maintain order and prevent chaos on the highways.  Study them thoroughly and obey them without question.\\n\\n5. **Practice, practice, practice:**  Driving is a skill honed through repetition and experience.  The more you practice under supervision, the more confident and competent you will become.\\n\\n6. **Maintain vigilance:**  Always be aware of your surroundings, anticipate the actions of other drivers, and react appropriately to unexpected situations.  Complacency is the enemy of survival.\\n\\n7. **Respect the machine:**  Treat your vehicle with the respect it deserves.  Regular maintenance is crucial to ensure its continued functionality and your safety.\\n\\nRemember, brother, the road is a battlefield.  Drive with caution, skill, and the unwavering devotion to the Emperor's will, and you may yet survive to fight another day.  Failure to do so will result in… unpleasant consequences.\\n\", additional_kwargs={}, response_metadata={'prompt_feedback': {'block_reason': 0, 'safety_ratings': []}, 'finish_reason': 'STOP', 'safety_ratings': []}, id='run-604a099d-a4d2-46b7-90fe-aa8f85ba2114-0', usage_metadata={'input_tokens': 155, 'output_tokens': 456, 'total_tokens': 611, 'input_token_details': {'cache_read': 0}})}}, 'thread_id': 'ab12', 'step': 7, 'parents': {}}, created_at='2024-12-08T22:29:10.324870+00:00', parent_config={'configurable': {'thread_id': 'ab12', 'checkpoint_ns': '', 'checkpoint_id': '1efb5b3d-5e13-638b-8006-57127d08be12'}}, tasks=())\n",
      "StateSnapshot(values={'messages': [HumanMessage(content='I like Avenged Sevenfold, what options do you have simillar to that?', additional_kwargs={}, response_metadata={}, id='aed3038a-cfb2-48ea-9b78-5e2ac6ee84f1'), AIMessage(content='The provided database query and results only show artists associated with the \"Rock\" genre.  Avenged Sevenfold is also a rock band, so the query results are a starting point for recommendations.  The query returns AC/DC and Accept as artists with \"Rock\" genre music.  To give you better recommendations similar to Avenged Sevenfold, I need a database that includes more information like subgenres (e.g., metalcore, melodic metal),  artist similarity scores, or user listening history.  The current data is insufficient to provide tailored recommendations.\\n', additional_kwargs={}, response_metadata={'prompt_feedback': {'block_reason': 0, 'safety_ratings': []}, 'finish_reason': 'STOP', 'safety_ratings': []}, id='run-85dd78bd-0595-4db6-b6d2-43ebe27a6e1f-0', usage_metadata={'input_tokens': 184, 'output_tokens': 114, 'total_tokens': 298, 'input_token_details': {'cache_read': 0}}), HumanMessage(content='how to drive a car', additional_kwargs={}, response_metadata={}, id='e1445da2-c38a-47ce-9bcf-a79c5438ad51')], 'query': 'SELECT T1.Name FROM Artist AS T1 INNER JOIN Album AS T2 ON T1.ArtistId  =  T2.ArtistId INNER JOIN Track AS T3 ON T2.AlbumId  =  T3.AlbumId INNER JOIN Genre AS T4 ON T3.GenreId  =  T4.GenreId WHERE T4.Name  =  \\\\\"Rock\\\\\" LIMIT 10', 'result': \"[('AC/DC',), ('Accept',), ('Accept',), ('Accept',), ('Accept',), ('AC/DC',), ('AC/DC',), ('AC/DC',), ('AC/DC',), ('AC/DC',)]\"}, next=('generate_only_from_llm',), config={'configurable': {'thread_id': 'ab12', 'checkpoint_ns': '', 'checkpoint_id': '1efb5b3d-5e13-638b-8006-57127d08be12'}}, metadata={'source': 'loop', 'writes': None, 'thread_id': 'ab12', 'step': 6, 'parents': {}}, created_at='2024-12-08T22:29:06.385396+00:00', parent_config={'configurable': {'thread_id': 'ab12', 'checkpoint_ns': '', 'checkpoint_id': '1efb5b3d-5772-6724-8005-466aa686de4f'}}, tasks=(PregelTask(id='6e82bc31-aa03-c655-a20c-b261d0999c58', name='generate_only_from_llm', path=('__pregel_pull', 'generate_only_from_llm'), error=None, interrupts=(), state=None, result={'messages': AIMessage(content=\"Brother, attempting to operate an automobile without proper instruction is akin to charging into battle with a lasgun that's jammed – a recipe for disaster!  Driving is a complex undertaking, requiring not only mechanical aptitude but also a profound understanding of traffic laws and the sacred duty of preserving one's own life and the lives of others.  \\n\\nTo learn to drive safely and legally, you must:\\n\\n1. **Seek the guidance of a qualified instructor:**  Find a reputable driving school or a trusted, experienced driver willing to impart their knowledge.  This is not a task to be undertaken alone.  Improper training is a heresy against the Emperor's grace.\\n\\n2. **Obtain the necessary documentation:**  This includes a learner's permit (or equivalent) and any other legal requirements in your sector.  Failure to comply with the laws of the Imperium is punishable by... well, let's just say it's not pleasant.\\n\\n3. **Master the fundamentals:**  This includes starting the engine, operating the clutch (if applicable), shifting gears, using the steering wheel, braking, and signaling.  Practice these skills diligently in a safe, controlled environment.  Rushing this process is a path to ruin.\\n\\n4. **Learn the rules of the road:**  Traffic laws are not mere suggestions; they are the sacred edicts that maintain order and prevent chaos on the highways.  Study them thoroughly and obey them without question.\\n\\n5. **Practice, practice, practice:**  Driving is a skill honed through repetition and experience.  The more you practice under supervision, the more confident and competent you will become.\\n\\n6. **Maintain vigilance:**  Always be aware of your surroundings, anticipate the actions of other drivers, and react appropriately to unexpected situations.  Complacency is the enemy of survival.\\n\\n7. **Respect the machine:**  Treat your vehicle with the respect it deserves.  Regular maintenance is crucial to ensure its continued functionality and your safety.\\n\\nRemember, brother, the road is a battlefield.  Drive with caution, skill, and the unwavering devotion to the Emperor's will, and you may yet survive to fight another day.  Failure to do so will result in… unpleasant consequences.\\n\", additional_kwargs={}, response_metadata={'prompt_feedback': {'block_reason': 0, 'safety_ratings': []}, 'finish_reason': 'STOP', 'safety_ratings': []}, id='run-604a099d-a4d2-46b7-90fe-aa8f85ba2114-0', usage_metadata={'input_tokens': 155, 'output_tokens': 456, 'total_tokens': 611, 'input_token_details': {'cache_read': 0}})}),))\n",
      "StateSnapshot(values={'messages': [HumanMessage(content='I like Avenged Sevenfold, what options do you have simillar to that?', additional_kwargs={}, response_metadata={}, id='aed3038a-cfb2-48ea-9b78-5e2ac6ee84f1'), AIMessage(content='The provided database query and results only show artists associated with the \"Rock\" genre.  Avenged Sevenfold is also a rock band, so the query results are a starting point for recommendations.  The query returns AC/DC and Accept as artists with \"Rock\" genre music.  To give you better recommendations similar to Avenged Sevenfold, I need a database that includes more information like subgenres (e.g., metalcore, melodic metal),  artist similarity scores, or user listening history.  The current data is insufficient to provide tailored recommendations.\\n', additional_kwargs={}, response_metadata={'prompt_feedback': {'block_reason': 0, 'safety_ratings': []}, 'finish_reason': 'STOP', 'safety_ratings': []}, id='run-85dd78bd-0595-4db6-b6d2-43ebe27a6e1f-0', usage_metadata={'input_tokens': 184, 'output_tokens': 114, 'total_tokens': 298, 'input_token_details': {'cache_read': 0}})], 'query': 'SELECT T1.Name FROM Artist AS T1 INNER JOIN Album AS T2 ON T1.ArtistId  =  T2.ArtistId INNER JOIN Track AS T3 ON T2.AlbumId  =  T3.AlbumId INNER JOIN Genre AS T4 ON T3.GenreId  =  T4.GenreId WHERE T4.Name  =  \\\\\"Rock\\\\\" LIMIT 10', 'result': \"[('AC/DC',), ('Accept',), ('Accept',), ('Accept',), ('Accept',), ('AC/DC',), ('AC/DC',), ('AC/DC',), ('AC/DC',), ('AC/DC',)]\"}, next=('__start__',), config={'configurable': {'thread_id': 'ab12', 'checkpoint_ns': '', 'checkpoint_id': '1efb5b3d-5772-6724-8005-466aa686de4f'}}, metadata={'source': 'input', 'writes': {'__start__': {'messages': [HumanMessage(content='how to drive a car', additional_kwargs={}, response_metadata={})]}}, 'thread_id': 'ab12', 'step': 5, 'parents': {}}, created_at='2024-12-08T22:29:05.690397+00:00', parent_config={'configurable': {'thread_id': 'ab12', 'checkpoint_ns': '', 'checkpoint_id': '1efb5b3b-0f78-609b-8004-da0e1514b678'}}, tasks=(PregelTask(id='883352b0-8095-8f0c-39e7-bb89b33bb62f', name='__start__', path=('__pregel_pull', '__start__'), error=None, interrupts=(), state=None, result={'messages': [HumanMessage(content='how to drive a car', additional_kwargs={}, response_metadata={}, id='e1445da2-c38a-47ce-9bcf-a79c5438ad51')]}),))\n",
      "StateSnapshot(values={'messages': [HumanMessage(content='I like Avenged Sevenfold, what options do you have simillar to that?', additional_kwargs={}, response_metadata={}, id='aed3038a-cfb2-48ea-9b78-5e2ac6ee84f1'), AIMessage(content='The provided database query and results only show artists associated with the \"Rock\" genre.  Avenged Sevenfold is also a rock band, so the query results are a starting point for recommendations.  The query returns AC/DC and Accept as artists with \"Rock\" genre music.  To give you better recommendations similar to Avenged Sevenfold, I need a database that includes more information like subgenres (e.g., metalcore, melodic metal),  artist similarity scores, or user listening history.  The current data is insufficient to provide tailored recommendations.\\n', additional_kwargs={}, response_metadata={'prompt_feedback': {'block_reason': 0, 'safety_ratings': []}, 'finish_reason': 'STOP', 'safety_ratings': []}, id='run-85dd78bd-0595-4db6-b6d2-43ebe27a6e1f-0', usage_metadata={'input_tokens': 184, 'output_tokens': 114, 'total_tokens': 298, 'input_token_details': {'cache_read': 0}})], 'query': 'SELECT T1.Name FROM Artist AS T1 INNER JOIN Album AS T2 ON T1.ArtistId  =  T2.ArtistId INNER JOIN Track AS T3 ON T2.AlbumId  =  T3.AlbumId INNER JOIN Genre AS T4 ON T3.GenreId  =  T4.GenreId WHERE T4.Name  =  \\\\\"Rock\\\\\" LIMIT 10', 'result': \"[('AC/DC',), ('Accept',), ('Accept',), ('Accept',), ('Accept',), ('AC/DC',), ('AC/DC',), ('AC/DC',), ('AC/DC',), ('AC/DC',)]\"}, next=('__start__',), config={'configurable': {'thread_id': 'ab12', 'checkpoint_ns': '', 'checkpoint_id': '1efb5b3b-0f78-609b-8004-da0e1514b678'}}, metadata={'source': 'input', 'writes': {'__start__': {'question': 'how to drive a car'}}, 'thread_id': 'ab12', 'step': 4, 'parents': {}}, created_at='2024-12-08T22:28:04.455849+00:00', parent_config={'configurable': {'thread_id': 'ab12', 'checkpoint_ns': '', 'checkpoint_id': '1efb5b3b-0f50-6f7a-8003-8e615479a523'}}, tasks=(PregelTask(id='c912e6bc-39dd-a890-385b-0b392347af52', name='__start__', path=('__pregel_pull', '__start__'), error='InvalidUpdateError(\"Expected node __start__ to update at least one of [\\'messages\\', \\'query\\', \\'result\\'], got {\\'question\\': \\'how to drive a car\\'}\")', interrupts=(), state=None, result=None),))\n",
      "StateSnapshot(values={'messages': [HumanMessage(content='I like Avenged Sevenfold, what options do you have simillar to that?', additional_kwargs={}, response_metadata={}, id='aed3038a-cfb2-48ea-9b78-5e2ac6ee84f1'), AIMessage(content='The provided database query and results only show artists associated with the \"Rock\" genre.  Avenged Sevenfold is also a rock band, so the query results are a starting point for recommendations.  The query returns AC/DC and Accept as artists with \"Rock\" genre music.  To give you better recommendations similar to Avenged Sevenfold, I need a database that includes more information like subgenres (e.g., metalcore, melodic metal),  artist similarity scores, or user listening history.  The current data is insufficient to provide tailored recommendations.\\n', additional_kwargs={}, response_metadata={'prompt_feedback': {'block_reason': 0, 'safety_ratings': []}, 'finish_reason': 'STOP', 'safety_ratings': []}, id='run-85dd78bd-0595-4db6-b6d2-43ebe27a6e1f-0', usage_metadata={'input_tokens': 184, 'output_tokens': 114, 'total_tokens': 298, 'input_token_details': {'cache_read': 0}})], 'query': 'SELECT T1.Name FROM Artist AS T1 INNER JOIN Album AS T2 ON T1.ArtistId  =  T2.ArtistId INNER JOIN Track AS T3 ON T2.AlbumId  =  T3.AlbumId INNER JOIN Genre AS T4 ON T3.GenreId  =  T4.GenreId WHERE T4.Name  =  \\\\\"Rock\\\\\" LIMIT 10', 'result': \"[('AC/DC',), ('Accept',), ('Accept',), ('Accept',), ('Accept',), ('AC/DC',), ('AC/DC',), ('AC/DC',), ('AC/DC',), ('AC/DC',)]\"}, next=(), config={'configurable': {'thread_id': 'ab12', 'checkpoint_ns': '', 'checkpoint_id': '1efb5b3b-0f50-6f7a-8003-8e615479a523'}}, metadata={'source': 'loop', 'writes': {'generate_answer': {'messages': AIMessage(content='The provided database query and results only show artists associated with the \"Rock\" genre.  Avenged Sevenfold is also a rock band, so the query results are a starting point for recommendations.  The query returns AC/DC and Accept as artists with \"Rock\" genre music.  To give you better recommendations similar to Avenged Sevenfold, I need a database that includes more information like subgenres (e.g., metalcore, melodic metal),  artist similarity scores, or user listening history.  The current data is insufficient to provide tailored recommendations.\\n', additional_kwargs={}, response_metadata={'prompt_feedback': {'block_reason': 0, 'safety_ratings': []}, 'finish_reason': 'STOP', 'safety_ratings': []}, id='run-85dd78bd-0595-4db6-b6d2-43ebe27a6e1f-0', usage_metadata={'input_tokens': 184, 'output_tokens': 114, 'total_tokens': 298, 'input_token_details': {'cache_read': 0}})}}, 'thread_id': 'ab12', 'step': 3, 'parents': {}}, created_at='2024-12-08T22:28:04.439845+00:00', parent_config={'configurable': {'thread_id': 'ab12', 'checkpoint_ns': '', 'checkpoint_id': '1efb5b3b-04b6-6323-8002-32c0e9158756'}}, tasks=())\n",
      "StateSnapshot(values={'messages': [HumanMessage(content='I like Avenged Sevenfold, what options do you have simillar to that?', additional_kwargs={}, response_metadata={}, id='aed3038a-cfb2-48ea-9b78-5e2ac6ee84f1')], 'query': 'SELECT T1.Name FROM Artist AS T1 INNER JOIN Album AS T2 ON T1.ArtistId  =  T2.ArtistId INNER JOIN Track AS T3 ON T2.AlbumId  =  T3.AlbumId INNER JOIN Genre AS T4 ON T3.GenreId  =  T4.GenreId WHERE T4.Name  =  \\\\\"Rock\\\\\" LIMIT 10', 'result': \"[('AC/DC',), ('Accept',), ('Accept',), ('Accept',), ('Accept',), ('AC/DC',), ('AC/DC',), ('AC/DC',), ('AC/DC',), ('AC/DC',)]\"}, next=('generate_answer',), config={'configurable': {'thread_id': 'ab12', 'checkpoint_ns': '', 'checkpoint_id': '1efb5b3b-04b6-6323-8002-32c0e9158756'}}, metadata={'source': 'loop', 'writes': {'execute_query': {'result': \"[('AC/DC',), ('Accept',), ('Accept',), ('Accept',), ('Accept',), ('AC/DC',), ('AC/DC',), ('AC/DC',), ('AC/DC',), ('AC/DC',)]\"}}, 'thread_id': 'ab12', 'step': 2, 'parents': {}}, created_at='2024-12-08T22:28:03.327875+00:00', parent_config={'configurable': {'thread_id': 'ab12', 'checkpoint_ns': '', 'checkpoint_id': '1efb5b3b-04a9-6ec0-8001-9ad4cf5ab04e'}}, tasks=(PregelTask(id='fc77fe93-6f1e-7f22-0fea-a528eab9b41f', name='generate_answer', path=('__pregel_pull', 'generate_answer'), error=None, interrupts=(), state=None, result={'messages': AIMessage(content='The provided database query and results only show artists associated with the \"Rock\" genre.  Avenged Sevenfold is also a rock band, so the query results are a starting point for recommendations.  The query returns AC/DC and Accept as artists with \"Rock\" genre music.  To give you better recommendations similar to Avenged Sevenfold, I need a database that includes more information like subgenres (e.g., metalcore, melodic metal),  artist similarity scores, or user listening history.  The current data is insufficient to provide tailored recommendations.\\n', additional_kwargs={}, response_metadata={'prompt_feedback': {'block_reason': 0, 'safety_ratings': []}, 'finish_reason': 'STOP', 'safety_ratings': []}, id='run-85dd78bd-0595-4db6-b6d2-43ebe27a6e1f-0', usage_metadata={'input_tokens': 184, 'output_tokens': 114, 'total_tokens': 298, 'input_token_details': {'cache_read': 0}})}),))\n",
      "StateSnapshot(values={'messages': [HumanMessage(content='I like Avenged Sevenfold, what options do you have simillar to that?', additional_kwargs={}, response_metadata={}, id='aed3038a-cfb2-48ea-9b78-5e2ac6ee84f1')], 'query': 'SELECT T1.Name FROM Artist AS T1 INNER JOIN Album AS T2 ON T1.ArtistId  =  T2.ArtistId INNER JOIN Track AS T3 ON T2.AlbumId  =  T3.AlbumId INNER JOIN Genre AS T4 ON T3.GenreId  =  T4.GenreId WHERE T4.Name  =  \\\\\"Rock\\\\\" LIMIT 10'}, next=('execute_query',), config={'configurable': {'thread_id': 'ab12', 'checkpoint_ns': '', 'checkpoint_id': '1efb5b3b-04a9-6ec0-8001-9ad4cf5ab04e'}}, metadata={'source': 'loop', 'writes': {'write_query': {'query': 'SELECT T1.Name FROM Artist AS T1 INNER JOIN Album AS T2 ON T1.ArtistId  =  T2.ArtistId INNER JOIN Track AS T3 ON T2.AlbumId  =  T3.AlbumId INNER JOIN Genre AS T4 ON T3.GenreId  =  T4.GenreId WHERE T4.Name  =  \\\\\"Rock\\\\\" LIMIT 10'}}, 'thread_id': 'ab12', 'step': 1, 'parents': {}}, created_at='2024-12-08T22:28:03.322848+00:00', parent_config={'configurable': {'thread_id': 'ab12', 'checkpoint_ns': '', 'checkpoint_id': '1efb5b3a-f8e7-6bd7-8000-0800267a1d2e'}}, tasks=(PregelTask(id='18fdc934-7d11-1b07-74d5-a972ae0ec5b3', name='execute_query', path=('__pregel_pull', 'execute_query'), error=None, interrupts=(), state=None, result={'result': \"[('AC/DC',), ('Accept',), ('Accept',), ('Accept',), ('Accept',), ('AC/DC',), ('AC/DC',), ('AC/DC',), ('AC/DC',), ('AC/DC',)]\"}),))\n",
      "StateSnapshot(values={'messages': [HumanMessage(content='I like Avenged Sevenfold, what options do you have simillar to that?', additional_kwargs={}, response_metadata={}, id='aed3038a-cfb2-48ea-9b78-5e2ac6ee84f1')]}, next=('write_query',), config={'configurable': {'thread_id': 'ab12', 'checkpoint_ns': '', 'checkpoint_id': '1efb5b3a-f8e7-6bd7-8000-0800267a1d2e'}}, metadata={'source': 'loop', 'writes': None, 'thread_id': 'ab12', 'step': 0, 'parents': {}}, created_at='2024-12-08T22:28:02.089877+00:00', parent_config={'configurable': {'thread_id': 'ab12', 'checkpoint_ns': '', 'checkpoint_id': '1efb5b3a-ec7c-62e1-bfff-ce3c141982e7'}}, tasks=(PregelTask(id='a75619e2-efb9-9649-583c-fdb99862c116', name='write_query', path=('__pregel_pull', 'write_query'), error=None, interrupts=(), state=None, result={'query': 'SELECT T1.Name FROM Artist AS T1 INNER JOIN Album AS T2 ON T1.ArtistId  =  T2.ArtistId INNER JOIN Track AS T3 ON T2.AlbumId  =  T3.AlbumId INNER JOIN Genre AS T4 ON T3.GenreId  =  T4.GenreId WHERE T4.Name  =  \\\\\"Rock\\\\\" LIMIT 10'}),))\n",
      "StateSnapshot(values={'messages': []}, next=('__start__',), config={'configurable': {'thread_id': 'ab12', 'checkpoint_ns': '', 'checkpoint_id': '1efb5b3a-ec7c-62e1-bfff-ce3c141982e7'}}, metadata={'source': 'input', 'writes': {'__start__': {'messages': [HumanMessage(content='I like Avenged Sevenfold, what options do you have simillar to that?', additional_kwargs={}, response_metadata={})]}}, 'thread_id': 'ab12', 'step': -1, 'parents': {}}, created_at='2024-12-08T22:28:00.787529+00:00', parent_config=None, tasks=(PregelTask(id='7ff08be1-0dab-61d6-15ea-5a551f9e0ce6', name='__start__', path=('__pregel_pull', '__start__'), error=None, interrupts=(), state=None, result={'messages': [HumanMessage(content='I like Avenged Sevenfold, what options do you have simillar to that?', additional_kwargs={}, response_metadata={}, id='aed3038a-cfb2-48ea-9b78-5e2ac6ee84f1')]}),))\n"
     ]
    }
   ],
   "source": [
    "# app.get_state_history(config)\n",
    "for s in app.get_state_history(config):\n",
    "    print(s)"
   ]
  },
  {
   "cell_type": "code",
   "execution_count": null,
   "metadata": {},
   "outputs": [],
   "source": []
  }
 ],
 "metadata": {
  "kernelspec": {
   "display_name": ".venv",
   "language": "python",
   "name": "python3"
  },
  "language_info": {
   "codemirror_mode": {
    "name": "ipython",
    "version": 3
   },
   "file_extension": ".py",
   "mimetype": "text/x-python",
   "name": "python",
   "nbconvert_exporter": "python",
   "pygments_lexer": "ipython3",
   "version": "3.10.1"
  }
 },
 "nbformat": 4,
 "nbformat_minor": 2
}
