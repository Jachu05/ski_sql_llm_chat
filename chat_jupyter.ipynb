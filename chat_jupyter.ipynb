{
 "cells": [
  {
   "cell_type": "code",
   "execution_count": 14,
   "metadata": {},
   "outputs": [
    {
     "data": {
      "application/vnd.jupyter.widget-view+json": {
       "model_id": "6a6dde22ed3846d1843f4482bde36bce",
       "version_major": 2,
       "version_minor": 0
      },
      "text/plain": [
       "Text(value='', placeholder='Enter your message')"
      ]
     },
     "metadata": {},
     "output_type": "display_data"
    },
    {
     "data": {
      "application/vnd.jupyter.widget-view+json": {
       "model_id": "c7fb2a9dffbb419f90a8a55fb3e90ad3",
       "version_major": 2,
       "version_minor": 0
      },
      "text/plain": [
       "Button(description='Send', style=ButtonStyle())"
      ]
     },
     "metadata": {},
     "output_type": "display_data"
    },
    {
     "data": {
      "application/vnd.jupyter.widget-view+json": {
       "model_id": "04c7df7aec014890ac016f39f2d81ba2",
       "version_major": 2,
       "version_minor": 0
      },
      "text/plain": [
       "Textarea(value='', rows=10)"
      ]
     },
     "metadata": {},
     "output_type": "display_data"
    }
   ],
   "source": [
    "import ipywidgets as widgets\n",
    "from IPython.display import display\n",
    "import llm_utils\n",
    "from langchain_core.runnables.config import RunnableConfig\n",
    "\n",
    "app = llm_utils.get_app()\n",
    "config = RunnableConfig({\"configurable\": {\"thread_id\": \"ab12\"}})\n",
    "\n",
    "def handle_submit(sender):\n",
    "    user_input = text_input.value\n",
    "    response = app.invoke({\"messages\": user_input}, config)['messages'][-1].content\n",
    "    output_area.value += f\"You: {user_input}\\nBot: {response}\\n\"\n",
    "    text_input.value = \"\"\n",
    "\n",
    "text_input = widgets.Text(placeholder='Enter your message')\n",
    "output_area = widgets.Textarea(value='', rows=10)\n",
    "button = widgets.Button(description='Send')\n",
    "\n",
    "button.on_click(handle_submit)\n",
    "\n",
    "display(text_input, button, output_area)"
   ]
  },
  {
   "cell_type": "code",
   "execution_count": null,
   "metadata": {},
   "outputs": [],
   "source": []
  }
 ],
 "metadata": {
  "kernelspec": {
   "display_name": ".venv",
   "language": "python",
   "name": "python3"
  },
  "language_info": {
   "codemirror_mode": {
    "name": "ipython",
    "version": 3
   },
   "file_extension": ".py",
   "mimetype": "text/x-python",
   "name": "python",
   "nbconvert_exporter": "python",
   "pygments_lexer": "ipython3",
   "version": "3.10.1"
  }
 },
 "nbformat": 4,
 "nbformat_minor": 2
}
